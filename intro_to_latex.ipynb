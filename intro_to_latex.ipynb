{
 "cells": [
  {
   "cell_type": "markdown",
   "id": "9c3cb4bf",
   "metadata": {},
   "source": [
    "# A Gentle Introduction To LaTex and IPython.display"
   ]
  },
  {
   "cell_type": "markdown",
   "id": "20b1320f",
   "metadata": {},
   "source": [
    "## Using IPython.display and Math"
   ]
  },
  {
   "cell_type": "code",
   "execution_count": 12,
   "id": "03530ae0",
   "metadata": {},
   "outputs": [
    {
     "data": {
      "text/latex": [
       "$\\displaystyle 4 + 3 = 7$"
      ],
      "text/plain": [
       "<IPython.core.display.Math object>"
      ]
     },
     "metadata": {},
     "output_type": "display_data"
    }
   ],
   "source": [
    "from IPython.display import Math\n",
    "# import numpy as np\n",
    "# import sympy as sp\n",
    "\n",
    "a, b, c = 4, 3, (4 + 3)\n",
    "\n",
    "display(Math(f'{a} + {b} = {c}'))"
   ]
  },
  {
   "cell_type": "markdown",
   "id": "8a1647b6",
   "metadata": {},
   "source": [
    "## Using Latex"
   ]
  },
  {
   "cell_type": "code",
   "execution_count": 20,
   "id": "1a569583",
   "metadata": {},
   "outputs": [
    {
     "data": {
      "text/latex": [
       "$\\displaystyle 4 \\times 3 = 12 $"
      ],
      "text/plain": [
       "<IPython.core.display.Math object>"
      ]
     },
     "metadata": {},
     "output_type": "display_data"
    },
    {
     "data": {
      "text/latex": [
       "$\\displaystyle \\frac 43 = 4 \\div 3 = 1.33$"
      ],
      "text/plain": [
       "<IPython.core.display.Math object>"
      ]
     },
     "metadata": {},
     "output_type": "display_data"
    }
   ],
   "source": [
    "display(Math(f'{a} \\\\times {b} = {a * b} ')) # LaTex \\\\times\n",
    "display(Math(f'\\\\frac {a}{b} = {a} \\\\div {b} = {round(a / b, 2)}')) # LaTex \\\\frac and \\\\div\n"
   ]
  },
  {
   "cell_type": "code",
   "execution_count": null,
   "id": "62e91602",
   "metadata": {},
   "outputs": [],
   "source": []
  }
 ],
 "metadata": {
  "kernelspec": {
   "display_name": "Python 3 (ipykernel)",
   "language": "python",
   "name": "python3"
  },
  "language_info": {
   "codemirror_mode": {
    "name": "ipython",
    "version": 3
   },
   "file_extension": ".py",
   "mimetype": "text/x-python",
   "name": "python",
   "nbconvert_exporter": "python",
   "pygments_lexer": "ipython3",
   "version": "3.11.5"
  }
 },
 "nbformat": 4,
 "nbformat_minor": 5
}
